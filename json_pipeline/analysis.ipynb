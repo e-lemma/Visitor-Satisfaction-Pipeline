{
 "cells": [
  {
   "cell_type": "markdown",
   "metadata": {},
   "source": [
    "# Museum Analysis\n",
    "\n",
    "This notebook connects to the museum database and conducts simple analysis of the data.  \n",
    "- _Any additional information relating to the results of the analyses will be included with each individual query_\n"
   ]
  },
  {
   "cell_type": "markdown",
   "metadata": {},
   "source": [
    "## Imports\n"
   ]
  },
  {
   "cell_type": "code",
   "execution_count": 1,
   "metadata": {},
   "outputs": [],
   "source": [
    "import extract\n",
    "from pipeline import get_cursor, get_connection\n",
    "import os\n",
    "import psycopg2\n"
   ]
  },
  {
   "cell_type": "markdown",
   "metadata": {},
   "source": [
    "## Setup\n",
    "- _Connecting to the database, and establishing a connection to it._"
   ]
  },
  {
   "cell_type": "code",
   "execution_count": 2,
   "metadata": {},
   "outputs": [],
   "source": [
    "\n",
    "database_name = os.getenv(\"DATABASE_NAME\")\n",
    "database_username = os.getenv(\"DATABASE_USERNAME\")\n",
    "database_ip = os.getenv(\"DATABASE_IP\")\n",
    "database_password = os.getenv(\"DATABASE_PASSWORD\")\n",
    "database_port = os.getenv(\"DATABASE_PORT\")\n",
    "\n",
    "conn = psycopg2.connect(\n",
    "    database=database_name,\n",
    "    user=database_username,\n",
    "    host=database_ip,\n",
    "    password=database_password,\n",
    "    port=database_port\n",
    ")\n"
   ]
  },
  {
   "cell_type": "markdown",
   "metadata": {},
   "source": [
    "## Data Queries"
   ]
  },
  {
   "cell_type": "markdown",
   "metadata": {},
   "source": [
    "### What exhibition is most frequently visited?"
   ]
  },
  {
   "cell_type": "code",
   "execution_count": 3,
   "metadata": {},
   "outputs": [
    {
     "name": "stdout",
     "output_type": "stream",
     "text": [
      "Thunder Lizards is the most frequently visited exhibition, with 2586 unique reviews\n",
      "However, factoring in assistance requests:\n",
      "Our Polluted World is the most frequently visited exhibition, with 2656 unique reviews AND assistance requests.\n"
     ]
    }
   ],
   "source": [
    "with get_cursor(conn) as cursor:\n",
    "    \n",
    "    cursor.execute(\n",
    "    f\"\"\"\n",
    "    SELECT e.exhibition_name, COUNT(DISTINCT r.review_id) + COUNT(DISTINCT ar.assistance_request_id) as total\n",
    "    FROM exhibition as e\n",
    "    JOIN review AS r\n",
    "    ON e.exhibition_id = r.exhibition_id\n",
    "    INNER JOIN assistance_request AS ar\n",
    "    ON e.exhibition_id = ar.exhibition_id\n",
    "    GROUP BY e.exhibition_id\n",
    "    ORDER BY total DESC\n",
    "    LIMIT 1;\n",
    "    \"\"\")\n",
    "\n",
    "    most_review_and_ar = cursor.fetchone()\n",
    "\n",
    "    cursor.execute(\n",
    "    f\"\"\"\n",
    "    SELECT e.exhibition_name, COUNT(DISTINCT r.review_id)\n",
    "    FROM exhibition as e\n",
    "    JOIN review AS r\n",
    "    ON e.exhibition_id = r.exhibition_id\n",
    "    INNER JOIN assistance_request AS ar\n",
    "    ON e.exhibition_id = ar.exhibition_id\n",
    "    GROUP BY e.exhibition_id\n",
    "    ORDER BY e.exhibition_id DESC\n",
    "    LIMIT 1;\n",
    "    \"\"\")\n",
    "\n",
    "    most_review = cursor.fetchone()\n",
    "\n",
    "print(f\"{most_review[0]} is the most frequently visited exhibition, with {most_review[1]} unique reviews\")\n",
    "print(\"However, factoring in assistance requests:\")\n",
    "print(f\"{most_review_and_ar[0]} is the most frequently visited exhibition, with {most_review_and_ar[1]} unique reviews AND assistance requests.\")"
   ]
  },
  {
   "cell_type": "markdown",
   "metadata": {},
   "source": [
    "### What hour of the day has the most ratings?\n",
    "- _Note: The highest rating is a 4_"
   ]
  },
  {
   "cell_type": "code",
   "execution_count": 4,
   "metadata": {},
   "outputs": [
    {
     "name": "stdout",
     "output_type": "stream",
     "text": [
      "The hour of the day with the most ratings is 13:00-13:59, with 1679 ratings\n"
     ]
    }
   ],
   "source": [
    "with get_cursor(conn) as cursor:\n",
    "\n",
    "    cursor.execute(\n",
    "    f\"\"\"\n",
    "    SELECT EXTRACT(HOUR FROM creation_date) as hour, COUNT(*)\n",
    "    FROM review\n",
    "    GROUP BY hour\n",
    "    ORDER BY COUNT(*) DESC\n",
    "    LIMIT 1;\n",
    "    \"\"\")\n",
    "\n",
    "    hour = cursor.fetchone()\n",
    "\n",
    "answer = hour[0]\n",
    "num_ratings = hour[1]\n",
    "print(f\"The hour of the day with the most ratings is {answer}:00-{answer}:59, with {num_ratings} ratings\")"
   ]
  },
  {
   "cell_type": "markdown",
   "metadata": {},
   "source": [
    "### What is the average rating for each exhibition?"
   ]
  },
  {
   "cell_type": "code",
   "execution_count": 5,
   "metadata": {},
   "outputs": [
    {
     "name": "stdout",
     "output_type": "stream",
     "text": [
      "Thunder Lizards has an average rating of 2.9/4.0\n",
      "Cetacean Sensations has an average rating of 2.1/4.0\n",
      "Adaptation has an average rating of 2.0/4.0\n",
      "Measureless to Man has an average rating of 2.0/4.0\n",
      "The Crenshaw Collection has an average rating of 1.6/4.0\n",
      "Our Polluted World has an average rating of 1.2/4.0\n"
     ]
    }
   ],
   "source": [
    "with get_cursor(conn) as cursor:\n",
    "\n",
    "    cursor.execute(\n",
    "    f\"\"\"\n",
    "    SELECT e.exhibition_name, AVG(r.numeric_value)\n",
    "    FROM exhibition AS e\n",
    "    JOIN review AS rev\n",
    "    ON e.exhibition_id = rev.exhibition_id\n",
    "    JOIN rating AS r\n",
    "    ON rev.rating_id = r.rating_id\n",
    "    GROUP BY e.exhibition_name\n",
    "    ORDER BY AVG(r.numeric_value) DESC;\n",
    "    \"\"\")\n",
    "\n",
    "    result = cursor.fetchall()\n",
    "\n",
    "for row in result:\n",
    "    exhibition_name = row[0]\n",
    "    average_rating = round(row[1], 1)\n",
    "    print(f\"{exhibition_name} has an average rating of {average_rating}/{float(4)}\")"
   ]
  },
  {
   "cell_type": "markdown",
   "metadata": {},
   "source": [
    "### What proportion of all 3+ ratings are given to exhibition 4 (_Our Polluted World_)?\n"
   ]
  },
  {
   "cell_type": "code",
   "execution_count": 6,
   "metadata": {},
   "outputs": [
    {
     "name": "stdout",
     "output_type": "stream",
     "text": [
      "6.4% of all 3+ ratings were given to 'Our Polluted World'\n"
     ]
    }
   ],
   "source": [
    "with get_cursor(conn) as cursor:\n",
    "\n",
    "    cursor.execute(\n",
    "    f\"\"\"\n",
    "    SELECT e.exhibition_name, COUNT(r.numeric_value) as rate\n",
    "    FROM exhibition AS e\n",
    "    JOIN review AS rev\n",
    "    ON e.exhibition_id = rev.exhibition_id\n",
    "    JOIN rating AS r\n",
    "    ON rev.rating_id = r.rating_id\n",
    "    WHERE r.numeric_value in (3,4)\n",
    "    GROUP BY e.exhibition_name;\n",
    "    \"\"\")\n",
    "\n",
    "    result = cursor.fetchall()\n",
    "\n",
    "total_ratings = 0\n",
    "for row in result:\n",
    "    total_ratings += row[1]\n",
    "exhibition_four_proportion = (result[3][1] / total_ratings) * 100\n",
    "\n",
    "print(f\"{round(exhibition_four_proportion, 1)}% of all 3+ ratings were given to '{result[3][0]}'\")"
   ]
  },
  {
   "cell_type": "markdown",
   "metadata": {},
   "source": [
    "### Are positive ratings more frequent before or after 1pm?\n",
    "- _Assuming any ratings of 3 or above are considered positive_"
   ]
  },
  {
   "cell_type": "code",
   "execution_count": 7,
   "metadata": {},
   "outputs": [
    {
     "name": "stdout",
     "output_type": "stream",
     "text": [
      "There are 2835 positive ratings before 1pm, and 1029 after 1pm, so positive ratings are more frequent before 1pm.\n"
     ]
    }
   ],
   "source": [
    "with get_cursor(conn) as cursor:\n",
    "\n",
    "    cursor.execute(\n",
    "    f\"\"\"\n",
    "    SELECT COUNT(r.numeric_value) as rate\n",
    "    FROM exhibition AS e\n",
    "    JOIN review AS rev\n",
    "    ON e.exhibition_id = rev.exhibition_id\n",
    "    JOIN rating AS r\n",
    "    ON rev.rating_id = r.rating_id\n",
    "    WHERE r.numeric_value in (3,4)\n",
    "    AND EXTRACT(HOUR FROM rev.creation_date) < 13;\n",
    "    \"\"\")\n",
    "\n",
    "    before_one = (\"before\", cursor.fetchone()[0])\n",
    "\n",
    "    cursor.execute(\n",
    "    f\"\"\"\n",
    "    SELECT COUNT(r.numeric_value)\n",
    "    FROM exhibition AS e\n",
    "    JOIN review AS rev\n",
    "    ON e.exhibition_id = rev.exhibition_id\n",
    "    JOIN rating AS r\n",
    "    ON rev.rating_id = r.rating_id\n",
    "    WHERE r.numeric_value in (3,4)\n",
    "    AND EXTRACT(HOUR FROM rev.creation_date) > 13;\n",
    "    \"\"\")\n",
    "\n",
    "    after_one = (\"after\", cursor.fetchone()[0])\n",
    "    answer = max(before_one, after_one, key=lambda x: x[1])[0]\n",
    "\n",
    "print(f\"There are {before_one[1]} positive ratings before 1pm, and {after_one[1]} after 1pm, so positive ratings are more frequent {answer} 1pm.\")\n"
   ]
  },
  {
   "cell_type": "markdown",
   "metadata": {},
   "source": [
    "### How many ratings each hour are above the average rating for exhibition 4?"
   ]
  },
  {
   "cell_type": "code",
   "execution_count": 8,
   "metadata": {},
   "outputs": [
    {
     "name": "stdout",
     "output_type": "stream",
     "text": [
      "There are 1 ratings during the 7:00 hour that are above the average rating for exhibition 4.\n",
      "There are 915 ratings during the 8:00 hour that are above the average rating for exhibition 4.\n",
      "There are 998 ratings during the 9:00 hour that are above the average rating for exhibition 4.\n",
      "There are 997 ratings during the 10:00 hour that are above the average rating for exhibition 4.\n",
      "There are 961 ratings during the 11:00 hour that are above the average rating for exhibition 4.\n",
      "There are 1039 ratings during the 12:00 hour that are above the average rating for exhibition 4.\n",
      "There are 1034 ratings during the 13:00 hour that are above the average rating for exhibition 4.\n",
      "There are 788 ratings during the 14:00 hour that are above the average rating for exhibition 4.\n",
      "There are 510 ratings during the 15:00 hour that are above the average rating for exhibition 4.\n",
      "There are 501 ratings during the 16:00 hour that are above the average rating for exhibition 4.\n",
      "There are 2 ratings during the 17:00 hour that are above the average rating for exhibition 4.\n"
     ]
    }
   ],
   "source": [
    "with get_cursor(conn) as cursor:\n",
    "\n",
    "    cursor.execute(\n",
    "    f\"\"\"\n",
    "    SELECT EXTRACT(HOUR FROM rev.creation_date) AS hour, COUNT(*) AS num_ratings\n",
    "    FROM exhibition AS e\n",
    "    JOIN review AS rev\n",
    "    ON e.exhibition_id = rev.exhibition_id\n",
    "    JOIN rating AS r\n",
    "    ON rev.rating_id = r.rating_id\n",
    "    JOIN(\n",
    "        SELECT AVG(r.numeric_value) AS avg_rating_4\n",
    "        FROM exhibition AS e\n",
    "        JOIN review AS rev\n",
    "        ON e.exhibition_id = rev.exhibition_id\n",
    "        JOIN rating AS r\n",
    "        ON rev.rating_id = r.rating_id\n",
    "        WHERE e.exhibition_id = 4\n",
    "        )\n",
    "    AS avg_rating_4\n",
    "    ON r.numeric_value > avg_rating_4.avg_rating_4\n",
    "    GROUP BY hour\n",
    "    ORDER BY hour;\n",
    "    \"\"\")\n",
    "\n",
    "    res = cursor.fetchall()\n",
    "\n",
    "for row in res:\n",
    "    print(f\"There are {row[1]} ratings during the {row[0]}:00 hour that are above the average rating for exhibition 4.\")"
   ]
  },
  {
   "cell_type": "markdown",
   "metadata": {},
   "source": [
    "### Do Zoology exhibitions get better ratings than other types?"
   ]
  },
  {
   "cell_type": "code",
   "execution_count": 9,
   "metadata": {},
   "outputs": [
    {
     "name": "stdout",
     "output_type": "stream",
     "text": [
      "This is False\n",
      "Paleontology department exhibitions have an overall average rating of 2.9\n",
      "Entomology department exhibitions have an overall average rating of 2.0\n",
      "Geology department exhibitions have an overall average rating of 2.0\n",
      "Zoology department exhibitions have an overall average rating of 1.9\n",
      "Ecology department exhibitions have an overall average rating of 1.2\n"
     ]
    }
   ],
   "source": [
    "#Find the average of all zoology exhibitions\n",
    "# Compare to the average of all other exhibitions!\n",
    "\n",
    "with get_cursor(conn) as cursor:\n",
    "\n",
    "    cursor.execute(\n",
    "        f\"\"\"\n",
    "        SELECT d.department_name, AVG(r.numeric_value) AS average\n",
    "        FROM exhibition AS e\n",
    "        JOIN review AS rev\n",
    "        ON e.exhibition_id = rev.exhibition_id\n",
    "        JOIN rating AS r\n",
    "        ON rev.rating_id = r.rating_id\n",
    "        JOIN department AS d\n",
    "        ON e.department_id = d.department_id\n",
    "        GROUP BY d.department_id\n",
    "        ORDER BY average DESC;\n",
    "        \"\"\")\n",
    "    \n",
    "    result = cursor.fetchall()\n",
    "\n",
    "other_exhibition_ratings = [row[1] for row in result if \"Zoology\" not in row[0]]\n",
    "zoology_rating = [row[1] for row in result if row[0] == \"Zoology\"]\n",
    "print(f\"This is {zoology_rating > other_exhibition_ratings}\")\n",
    "for row in result:\n",
    "    print(f\"{row[0]} department exhibitions have an overall average rating of {round(row[1], 1)}\")\n"
   ]
  },
  {
   "cell_type": "markdown",
   "metadata": {},
   "source": [
    "### What exhibition has the most emergencies?"
   ]
  },
  {
   "cell_type": "code",
   "execution_count": 10,
   "metadata": {},
   "outputs": [
    {
     "name": "stdout",
     "output_type": "stream",
     "text": [
      "The exhibition with the most emergency requests is The Crenshaw Collection, with 6 requests\n"
     ]
    }
   ],
   "source": [
    "with get_cursor(conn) as cursor:\n",
    "\n",
    "    cursor.execute(\n",
    "        f\"\"\"\n",
    "        SELECT e.exhibition_name, count(ar.assistance_request_id)\n",
    "        FROM exhibition AS e\n",
    "        JOIN assistance_request AS ar\n",
    "        ON e.exhibition_id = ar.exhibition_id\n",
    "        JOIN assistance AS a\n",
    "        ON ar.assistance_id = a.assistance_id\n",
    "        WHERE a.numeric_value = 1\n",
    "        GROUP BY e.exhibition_name\n",
    "        ORDER BY count(ar.assistance_request_id) DESC\n",
    "        LIMIT 1;\n",
    "        \"\"\")\n",
    "\n",
    "    result = cursor.fetchone()\n",
    "\n",
    "print(f\"The exhibition with the most emergency requests is {result[0]}, with {result[1]} requests\")"
   ]
  },
  {
   "cell_type": "markdown",
   "metadata": {},
   "source": [
    "### Which exhibitions receive fewer assistance request than the average?"
   ]
  },
  {
   "cell_type": "code",
   "execution_count": 11,
   "metadata": {},
   "outputs": [
    {
     "name": "stdout",
     "output_type": "stream",
     "text": [
      "Thunder Lizards\n",
      "Measureless to Man\n",
      "Adaptation\n"
     ]
    }
   ],
   "source": [
    "with get_cursor(conn) as cursor:\n",
    "\n",
    "    cursor.execute(\n",
    "        f\"\"\"\n",
    "        SELECT e.exhibition_name, COUNT(are.assistance_request_id)\n",
    "        FROM exhibition AS e\n",
    "        JOIN assistance_request AS are\n",
    "        ON e.exhibition_id = are.exhibition_id\n",
    "        GROUP BY e.exhibition_name\n",
    "        HAVING COUNT(are.assistance_request_id) <\n",
    "        (\n",
    "        SELECT AVG(num_reqs)\n",
    "        FROM (\n",
    "            SELECT COUNT(ar.assistance_request_id) AS num_reqs\n",
    "            FROM assistance_request AS ar\n",
    "            JOIN exhibition AS e\n",
    "            ON ar.exhibition_id = e.exhibition_id\n",
    "            GROUP BY ar.exhibition_id\n",
    "            )\n",
    "        )\n",
    "        \"\"\")\n",
    "    \n",
    "    result = cursor.fetchall()\n",
    "\n",
    "for row in result:\n",
    "    print(row[0])"
   ]
  },
  {
   "cell_type": "markdown",
   "metadata": {},
   "source": [
    "### Are there particular times when assistance requests/emergencies are more likely?"
   ]
  },
  {
   "cell_type": "code",
   "execution_count": 12,
   "metadata": {},
   "outputs": [
    {
     "name": "stdout",
     "output_type": "stream",
     "text": [
      "The five most common times for assistance requests to occur are:\n",
      "13:00-14:00\n",
      "11:00-12:00\n",
      "12:00-13:00\n",
      "10:00-11:00\n",
      "9:00-10:00\n"
     ]
    }
   ],
   "source": [
    "with get_cursor(conn) as cursor:\n",
    "\n",
    "    cursor.execute(\n",
    "        f\"\"\"\n",
    "    SELECT EXTRACT(HOUR FROM ar.creation_date) AS hour, COUNT(*) AS num_ars\n",
    "    FROM assistance_request AS ar\n",
    "    GROUP BY hour\n",
    "    ORDER BY num_ars DESC\n",
    "    LIMIT 5;\n",
    "    \"\"\")\n",
    "\n",
    "    res = cursor.fetchall()\n",
    "\n",
    "\n",
    "hours = [f\"{int(row[0])}:00-{int(row[0])+1}:00\" for row in res]\n",
    "\n",
    "print(f\"The five most common times for assistance requests to occur are:\\n{\n",
    "      \"\\n\".join(hours)}\")"
   ]
  }
 ],
 "metadata": {
  "kernelspec": {
   "display_name": ".venv",
   "language": "python",
   "name": "python3"
  },
  "language_info": {
   "codemirror_mode": {
    "name": "ipython",
    "version": 3
   },
   "file_extension": ".py",
   "mimetype": "text/x-python",
   "name": "python",
   "nbconvert_exporter": "python",
   "pygments_lexer": "ipython3",
   "version": "3.12.7"
  }
 },
 "nbformat": 4,
 "nbformat_minor": 2
}
